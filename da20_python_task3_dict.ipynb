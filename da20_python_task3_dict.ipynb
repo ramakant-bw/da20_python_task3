{
 "cells": [
  {
   "cell_type": "markdown",
   "id": "24863c5f",
   "metadata": {},
   "source": [
    "## Methods That Modify the Dictionary\n",
    "\n",
    "These methods change the original dictionary they are called on."
   ]
  },
  {
   "cell_type": "markdown",
   "id": "c9190175",
   "metadata": {},
   "source": [
    "* **`update(other_dict)`**\n",
    "    Merges the dictionary with another dictionary or an iterable of key-value pairs. If a key already exists, its value is **overwritten**."
   ]
  },
  {
   "cell_type": "code",
   "execution_count": 1,
   "id": "5ad188db",
   "metadata": {},
   "outputs": [
    {
     "name": "stdout",
     "output_type": "stream",
     "text": [
      "{'India': 'New Delhi', 'USA': 'Washington', 'Germany': 'Berlin'}\n",
      "{'India': 'New Delhi', 'USA': 'Washington', 'Germany': 'Berlin', 'China': 'Beijing'}\n",
      "{'India': 'New Delhi', 'USA': 'Washington', 'Germany': 'Berlin', 'China': 'Beijing', 'Japan': 'Tokyo'}\n",
      "{'India': 'New Delhi', 'USA': 'Washington', 'Germany': 'Berlin', 'China': 'Beijing', 'Japan': 'Tokyo', 'Russia': 'Moscow'}\n",
      "{'India': 'New Delhi', 'USA': 'Washington', 'Germany': 'Berlin', 'China': 'Beijing', 'Japan': 'Tokyo', 'Russia': 'Moscow', 'Brazil': 'Brasília'}\n"
     ]
    }
   ],
   "source": [
    "country_capitals = {\"India\": \"New Delhi\", \"USA\": \"Washington\"}\n",
    "\n",
    "country_capitals.update({\"Germany\": \"Berlin\"})\n",
    "print(country_capitals)\n",
    "\n",
    "country_capitals.update({ \"China\": \"Beijing\"})\n",
    "print(country_capitals)\n",
    "\n",
    "country_capitals.update({\"Japan\": \"Tokyo\"})\n",
    "print(country_capitals)\n",
    "\n",
    "country_capitals.update({\"Russia\": \"Moscow\"})\n",
    "print(country_capitals)\n",
    "\n",
    "country_capitals.update({\"Brazil\": \"Brasília\"})\n",
    "print(country_capitals)"
   ]
  },
  {
   "cell_type": "markdown",
   "id": "dd2807df",
   "metadata": {},
   "source": [
    "* **`pop(key, default)`**\n",
    "    Removes the specified key and **returns its value**. If the key is not found, it returns the `default` value if provided; otherwise, it raises a `KeyError`.\n",
    "    ```"
   ]
  },
  {
   "cell_type": "code",
   "execution_count": 76,
   "id": "b6cbf1e9",
   "metadata": {},
   "outputs": [
    {
     "name": "stdout",
     "output_type": "stream",
     "text": [
      "Ravi_mark = 76\n",
      "Sita_mark = 92\n",
      "Rahul_mark = 85\n",
      "Neha_mark = 79\n",
      "Ramesh_mark = 60\n"
     ]
    }
   ],
   "source": [
    "student_marks = {\n",
    "    \"Amit\": 88, \"Ravi\": 76, \"Sita\": 92, \"Rahul\": 85, \"Neha\": 79,\n",
    "    \"Vikas\": 90, \"Kiran\": 81, \"Anjali\": 95, \"Ramesh\": 60, \"Sunita\": 78,\n",
    "    \"Mohit\": 84, \"Priya\": 91, \"Alok\": 73, \"Pooja\": 89, \"Arjun\": 68,\n",
    "    \"Nisha\": 80, \"Vinay\": 77, \"Kavita\": 94, \"Deepak\": 82, \"Rekha\": 87\n",
    "}\n",
    "\n",
    "Ravi_mark = student_marks.pop('Ravi')\n",
    "print(f'Ravi_mark = {Ravi_mark}')\n",
    "\n",
    "Sita_mark = student_marks.pop('Sita')\n",
    "print(f'Sita_mark = {Sita_mark}')\n",
    "\n",
    "Rahul_mark = student_marks.pop('Rahul')\n",
    "print(f'Rahul_mark = {Rahul_mark}')\n",
    "\n",
    "Neha_mark = student_marks.pop('Neha')\n",
    "print(f'Neha_mark = {Neha_mark}')\n",
    "\n",
    "Ramesh_mark = student_marks.pop('Ramesh')\n",
    "print(f'Ramesh_mark = {Ramesh_mark}')\n"
   ]
  },
  {
   "cell_type": "markdown",
   "id": "854673e3",
   "metadata": {},
   "source": [
    "* **`popitem()`**\n",
    "    Removes and returns the **last inserted** key-value pair as a tuple. In versions before Python 3.7, it removed an arbitrary pair.\n"
   ]
  },
  {
   "cell_type": "code",
   "execution_count": 77,
   "id": "5989455f",
   "metadata": {},
   "outputs": [
    {
     "name": "stdout",
     "output_type": "stream",
     "text": [
      "last_item = ('Goa', 'Konkani')\n",
      "second_last_item = ('Sikkim', 'Nepali')\n",
      "third_last_item = ('Nagaland', 'English')\n",
      "fourth_last_item = ('Manipur', 'Meitei')\n",
      "fifth_last_item = ('Assam', 'Assamese')\n"
     ]
    }
   ],
   "source": [
    "state_languages = {\n",
    "    \"Maharashtra\": \"Marathi\", \"Gujarat\": \"Gujarati\", \"Kerala\": \"Malayalam\", \"Karnataka\": \"Kannada\", \"Tamil Nadu\": \"Tamil\",\n",
    "    \"Andhra Pradesh\": \"Telugu\", \"Telangana\": \"Telugu\", \"West Bengal\": \"Bengali\", \"Odisha\": \"Odia\", \"Punjab\": \"Punjabi\",\n",
    "    \"Haryana\": \"Hindi\", \"UP\": \"Hindi\", \"MP\": \"Hindi\", \"Rajasthan\": \"Hindi\", \"Bihar\": \"Hindi\",\n",
    "    \"Assam\": \"Assamese\", \"Manipur\": \"Meitei\", \"Nagaland\": \"English\", \"Sikkim\": \"Nepali\", \"Goa\": \"Konkani\"\n",
    "}\n",
    "\n",
    "last_item = state_languages.popitem()\n",
    "print(f'last_item = {last_item}')   \n",
    "\n",
    "second_last_item = state_languages.popitem()\n",
    "print(f'second_last_item = {second_last_item}') \n",
    "\n",
    "third_last_item = state_languages.popitem()\n",
    "print(f'third_last_item = {third_last_item}')   \n",
    "\n",
    "fourth_last_item = state_languages.popitem()\n",
    "print(f'fourth_last_item = {fourth_last_item}') \n",
    "\n",
    "fifth_last_item = state_languages.popitem()\n",
    "print(f'fifth_last_item = {fifth_last_item}')\n",
    "\n"
   ]
  },
  {
   "cell_type": "markdown",
   "id": "283be05e",
   "metadata": {},
   "source": [
    "* **`setdefault(key, default)`**\n",
    "    Returns the value of a key. If the key does not exist, it **inserts the key** with the specified `default` value and then returns that `default` value.\n"
   ]
  },
  {
   "cell_type": "code",
   "execution_count": 78,
   "id": "25887de0",
   "metadata": {},
   "outputs": [
    {
     "name": "stdout",
     "output_type": "stream",
     "text": [
      "person_age = 30\n",
      "person_country = INDIA\n",
      "person_language = Hindi\n",
      "{'name': ',Alice', 'city': 'MUmbai', 'occupation': 'Engineer', 'hobby': 'Photography', 'age': 30, 'country': 'INDIA', 'language': 'Hindi'}\n",
      "pet_color = Golden\n",
      "pet_owner = Rahul\n",
      "pet_weight = 30\n",
      "{'type': 'Dog', 'name': 'Buddy', 'age': 5, 'breed': 'Golden Retriever', 'color': 'Golden', 'owner': 'Rahul', 'weight': 30}\n"
     ]
    }
   ],
   "source": [
    "\n",
    "\n",
    "person = {'name': ',Alice', 'city': 'MUmbai', 'occupation': 'Engineer', 'hobby': 'Photography'}\n",
    "\n",
    "age = person.setdefault('age', 30)\n",
    "print(f'person_age = {age}')\n",
    "\n",
    "country = person.setdefault('country', 'INDIA')\n",
    "print(f'person_country = {country}')\n",
    "\n",
    "language = person.setdefault('language', 'Hindi')\n",
    "print(f'person_language = {language}')\n",
    "\n",
    "print(person)\n",
    "\n",
    "\n",
    "pet = {'type': 'Dog', 'name': 'Buddy', 'age': 5, 'breed': 'Golden Retriever'}   \n",
    "\n",
    "color = pet.setdefault('color', 'Golden')\n",
    "print(f'pet_color = {color}')\n",
    "\n",
    "owner = pet.setdefault('owner', 'Rahul')\n",
    "print(f'pet_owner = {owner}')  \n",
    "\n",
    "weight = pet.setdefault('weight', 30)\n",
    "print(f'pet_weight = {weight}') \n",
    "\n",
    "print(pet)"
   ]
  },
  {
   "cell_type": "markdown",
   "id": "3d2654c3",
   "metadata": {},
   "source": [
    "* **`clear()`**\n",
    "    Removes **all** items from the dictionary, making it empty.\n"
   ]
  },
  {
   "cell_type": "code",
   "execution_count": 79,
   "id": "fcb674d3",
   "metadata": {},
   "outputs": [
    {
     "name": "stdout",
     "output_type": "stream",
     "text": [
      "{}\n",
      "{}\n",
      "{}\n",
      "{}\n",
      "{}\n"
     ]
    }
   ],
   "source": [
    "currency_symbols = {\"India\": \"₹\", \"USA\": \"$\", \"UK\": \"£\", \"Japan\": \"¥\", \"EU\": \"€\"}\n",
    "\n",
    "gadget_prices = {\"Mobile\": 15000, \"Laptop\": 50000, \"Tablet\": 20000, \"Smartwatch\": 5000, \"Headphones\": 2000}\n",
    "\n",
    "company_founders = {\"Microsoft\": \"Bill Gates\", \"Apple\": \"Steve Jobs\", \"Amazon\": \"Jeff Bezos\", \"Google\": \"Larry Page\", \"Facebook\": \"Mark Zuckerberg\"}\n",
    "\n",
    "sport_players = {\"Cricket\": 11, \"Football\": 11, \"Hockey\": 11, \"Basketball\": 5, \"Volleyball\": 6}\n",
    "\n",
    "apps_category = {\"WhatsApp\": \"Messaging\", \"Instagram\": \"Social\", \"Facebook\": \"Social\", \"Twitter\": \"Social\", \"LinkedIn\": \"Professional\"}\n",
    "\n",
    "currency_symbols.clear()\n",
    "gadget_prices.clear()\n",
    "company_founders.clear()\n",
    "sport_players.clear()\n",
    "apps_category.clear()\n",
    "\n",
    "print(apps_category)\n",
    "print(gadget_prices)\n",
    "print(company_founders)\n",
    "print(sport_players)\n",
    "print(apps_category)\n"
   ]
  },
  {
   "cell_type": "markdown",
   "id": "ca476639",
   "metadata": {},
   "source": [
    "## Methods for Accessing Data (Non-Modifying)\n",
    "\n",
    "These methods return information about the dictionary without changing it.\n"
   ]
  },
  {
   "cell_type": "markdown",
   "id": "102eece0",
   "metadata": {},
   "source": [
    "* **`get(key, default=None)`**\n",
    "    Returns the value for a specified key. If the key is not found, it returns the `default` value (which is `None` if not provided) instead of raising a `KeyError`. This is the **safest way** to access a key.\n"
   ]
  },
  {
   "cell_type": "code",
   "execution_count": 80,
   "id": "dad7f91c",
   "metadata": {},
   "outputs": [
    {
     "name": "stdout",
     "output_type": "stream",
     "text": [
      "India\n",
      "EU\n",
      "Russia\n",
      "Mexico\n",
      "Israel\n"
     ]
    }
   ],
   "source": [
    "currency_country = {\n",
    "    \"Rupee\": \"India\", \"Dollar\": \"USA\", \"Euro\": \"EU\", \"Pound\": \"UK\", \"Yen\": \"Japan\",\n",
    "    \"Yuan\": \"China\", \"Won\": \"South Korea\", \"Ruble\": \"Russia\", \"Dirham\": \"UAE\", \"Dinar\": \"Kuwait\",\n",
    "    \"Ringgit\": \"Malaysia\", \"Peso\": \"Mexico\", \"Lira\": \"Turkey\", \"Franc\": \"Switzerland\", \"Rand\": \"South Africa\",\n",
    "    \"Shekel\": \"Israel\", \"Krona\": \"Sweden\", \"Krone\": \"Norway\", \"Baht\": \"Thailand\", \"Taka\": \"Bangladesh\"\n",
    "}\n",
    "\n",
    "print(currency_country.get('Rupee'))\n",
    "print(currency_country.get('Euro'))\n",
    "print(currency_country.get('Ruble'))\n",
    "print(currency_country.get('Peso'))\n",
    "print(currency_country.get('Shekel'))"
   ]
  },
  {
   "cell_type": "markdown",
   "id": "01fa7473",
   "metadata": {},
   "source": [
    "* **`keys()`**\n",
    "    Returns a **view object** that displays a list of all the keys in the dictionary. This view object updates automatically when the dictionary changes."
   ]
  },
  {
   "cell_type": "code",
   "execution_count": 81,
   "id": "bf578fe0",
   "metadata": {},
   "outputs": [
    {
     "name": "stdout",
     "output_type": "stream",
     "text": [
      "dict_keys(['Rupee', 'Dollar', 'Euro', 'Pound', 'Yen', 'Yuan', 'Won', 'Ruble', 'Dirham', 'Dinar', 'Ringgit', 'Peso', 'Lira', 'Franc', 'Rand', 'Shekel', 'Krona', 'Krone', 'Baht', 'Taka'])\n",
      "dict_keys(['WhatsApp', 'Instagram', 'Facebook', 'Twitter', 'LinkedIn'])\n",
      "dict_keys(['Mobile', 'Laptop', 'Tablet', 'Smartwatch', 'Headphones'])\n",
      "dict_keys(['Microsoft', 'Apple', 'Amazon', 'Google', 'Facebook'])\n",
      "dict_keys(['Cricket', 'Football', 'Hockey', 'Basketball', 'Volleyball'])\n"
     ]
    }
   ],
   "source": [
    "\n",
    "gadget_prices = {\"Mobile\": 15000, \"Laptop\": 50000, \"Tablet\": 20000, \"Smartwatch\": 5000, \"Headphones\": 2000}\n",
    "\n",
    "company_founders = {\"Microsoft\": \"Bill Gates\", \"Apple\": \"Steve Jobs\", \"Amazon\": \"Jeff Bezos\", \"Google\": \"Larry Page\", \"Facebook\": \"Mark Zuckerberg\"}\n",
    "\n",
    "sport_players = {\"Cricket\": 11, \"Football\": 11, \"Hockey\": 11, \"Basketball\": 5, \"Volleyball\": 6}\n",
    "\n",
    "apps_category = {\"WhatsApp\": \"Messaging\", \"Instagram\": \"Social\", \"Facebook\": \"Social\", \"Twitter\": \"Social\", \"LinkedIn\": \"Professional\"}\n",
    "\n",
    "print(currency_country.keys())\n",
    "print(apps_category.keys())\n",
    "print(gadget_prices.keys())\n",
    "print(company_founders.keys())\n",
    "print(sport_players.keys())"
   ]
  },
  {
   "cell_type": "markdown",
   "id": "9dc7a4ea",
   "metadata": {},
   "source": [
    "* **`values()`**\n",
    "    Returns a **view object** that displays a list of all the values in the dictionary.\n"
   ]
  },
  {
   "cell_type": "code",
   "execution_count": 82,
   "id": "d3abffd2",
   "metadata": {},
   "outputs": [
    {
     "name": "stdout",
     "output_type": "stream",
     "text": [
      "dict_values(['India', 'USA', 'EU', 'UK', 'Japan', 'China', 'South Korea', 'Russia', 'UAE', 'Kuwait', 'Malaysia', 'Mexico', 'Turkey', 'Switzerland', 'South Africa', 'Israel', 'Sweden', 'Norway', 'Thailand', 'Bangladesh'])\n",
      "dict_values(['Messaging', 'Social', 'Social', 'Social', 'Professional'])\n",
      "dict_values([15000, 50000, 20000, 5000, 2000])\n",
      "dict_values(['Bill Gates', 'Steve Jobs', 'Jeff Bezos', 'Larry Page', 'Mark Zuckerberg'])\n",
      "dict_values([11, 11, 11, 5, 6])\n"
     ]
    }
   ],
   "source": [
    "currency_symbols = {\"India\": \"₹\", \"USA\": \"$\", \"UK\": \"£\", \"Japan\": \"¥\", \"EU\": \"€\"}\n",
    "\n",
    "gadget_prices = {\"Mobile\": 15000, \"Laptop\": 50000, \"Tablet\": 20000, \"Smartwatch\": 5000, \"Headphones\": 2000}\n",
    "\n",
    "company_founders = {\"Microsoft\": \"Bill Gates\", \"Apple\": \"Steve Jobs\", \"Amazon\": \"Jeff Bezos\", \"Google\": \"Larry Page\", \"Facebook\": \"Mark Zuckerberg\"}\n",
    "\n",
    "sport_players = {\"Cricket\": 11, \"Football\": 11, \"Hockey\": 11, \"Basketball\": 5, \"Volleyball\": 6}\n",
    "\n",
    "apps_category = {\"WhatsApp\": \"Messaging\", \"Instagram\": \"Social\", \"Facebook\": \"Social\", \"Twitter\": \"Social\", \"LinkedIn\": \"Professional\"}\n",
    "\n",
    "\n",
    "print(currency_country.values())\n",
    "print(apps_category.values())\n",
    "print(gadget_prices.values())\n",
    "print(company_founders.values())\n",
    "print(sport_players.values())"
   ]
  },
  {
   "cell_type": "markdown",
   "id": "7cd26e53",
   "metadata": {},
   "source": [
    "* **`items()`**\n",
    "    Returns a **view object** that displays a list of the dictionary's key-value pairs as tuples. This is very useful for looping.\n"
   ]
  },
  {
   "cell_type": "code",
   "execution_count": 83,
   "id": "38447e3e",
   "metadata": {},
   "outputs": [
    {
     "name": "stdout",
     "output_type": "stream",
     "text": [
      "dict_items([('India', '₹'), ('USA', '$'), ('UK', '£')])\n",
      "dict_items([('WhatsApp', 'Messaging'), ('Instagram', 'Social'), ('Facebook', 'Social')])\n",
      "dict_items([('Mobile', 15000), ('Laptop', 50000), ('Tablet', 20000)])\n",
      "dict_items([('Microsoft', 'Bill Gates'), ('Apple', 'Steve Jobs')])\n",
      "dict_items([('Cricket', 11), ('Football', 11), ('Hockey', 11)])\n"
     ]
    }
   ],
   "source": [
    "currency_symbols = {\"India\": \"₹\", \"USA\": \"$\", \"UK\": \"£\"}\n",
    "\n",
    "gadget_prices = {\"Mobile\": 15000, \"Laptop\": 50000, \"Tablet\": 20000}\n",
    "\n",
    "company_founders = {\"Microsoft\": \"Bill Gates\", \"Apple\": \"Steve Jobs\"}\n",
    "\n",
    "sport_players = {\"Cricket\": 11, \"Football\": 11, \"Hockey\": 11}\n",
    "\n",
    "apps_category = {\"WhatsApp\": \"Messaging\", \"Instagram\": \"Social\", \"Facebook\": \"Social\"}\n",
    "\n",
    "\n",
    "print(currency_symbols.items())\n",
    "print(apps_category.items())\n",
    "print(gadget_prices.items())\n",
    "print(company_founders.items())\n",
    "print(sport_players.items())\n",
    "\n"
   ]
  },
  {
   "cell_type": "markdown",
   "id": "bc062b03",
   "metadata": {},
   "source": [
    "* **`copy()`**\n",
    "    Returns a **shallow copy** of the dictionary.\n",
    "\n",
    "    ```"
   ]
  },
  {
   "cell_type": "code",
   "execution_count": 84,
   "id": "2224dd1b",
   "metadata": {},
   "outputs": [
    {
     "name": "stdout",
     "output_type": "stream",
     "text": [
      "currency_symbols = {'India': '₹', 'USA': '$', 'UK': '£'}\n",
      "updated_currency_symbols = {'India': 'rupee', 'USA': '$', 'UK': '£'}\n",
      "gadget_prices = {'Mobile': 15000, 'Laptop': 50000, 'Tablet': 20000}\n",
      "updated_gadget_prices = {'India': 'rupee', 'USA': '$', 'UK': '£'}\n",
      "company_founder = {'Microsoft': 'Bill Gates', 'Apple': 'Steve Jobs'}\n",
      "updated_company_founders = {'Microsoft': 'B. Gates', 'Apple': 'Steve Jobs'}\n",
      "sport_players = {'Cricket': 11, 'Football': 11, 'Hockey': 11}\n",
      "updated_sport_players = {'Cricket': 11, 'Football': '15', 'Hockey': 11}\n",
      "apps_category = {'WhatsApp': 'Messaging', 'Instagram': 'Social', 'Facebook': 'Social'}\n",
      "updated_apps_category = {'WhatsApp': 'Messaging', 'Instagram': 'Photo Sharing', 'Facebook': 'Social'}\n"
     ]
    }
   ],
   "source": [
    "currency_symbols = {\"India\": \"₹\", \"USA\": \"$\", \"UK\": \"£\"}\n",
    "\n",
    "gadget_prices = {\"Mobile\": 15000, \"Laptop\": 50000, \"Tablet\": 20000}\n",
    "\n",
    "company_founders = {\"Microsoft\": \"Bill Gates\", \"Apple\": \"Steve Jobs\"}\n",
    "\n",
    "sport_players = {\"Cricket\": 11, \"Football\": 11, \"Hockey\": 11}\n",
    "\n",
    "apps_category = {\"WhatsApp\": \"Messaging\", \"Instagram\": \"Social\", \"Facebook\": \"Social\"}\n",
    "\n",
    "\n",
    "updated_currency_symbols = currency_symbols.copy()\n",
    "updated_currency_symbols['India'] = 'rupee' \n",
    "print(f'currency_symbols = {currency_symbols}')\n",
    "print(f'updated_currency_symbols = {updated_currency_symbols}')\n",
    "\n",
    "updated_gadget_prices = gadget_prices.copy()\n",
    "updated_gadget_prices['Mobile'] = '20000' \n",
    "print(f'gadget_prices = {gadget_prices}')\n",
    "print(f'updated_gadget_prices = {updated_currency_symbols}')\n",
    "\n",
    "updated_company_founders = company_founders.copy()\n",
    "updated_company_founders['Microsoft'] = 'B. Gates' \n",
    "print(f'company_founder = {company_founders}')\n",
    "print(f'updated_company_founders = {updated_company_founders}')\n",
    "\n",
    "updated_sport_players = sport_players.copy()\n",
    "updated_sport_players['Football'] = '15' \n",
    "print(f'sport_players = {sport_players}')\n",
    "print(f'updated_sport_players = {updated_sport_players}')\n",
    "\n",
    "\n",
    "updated_apps_category = apps_category.copy()\n",
    "updated_apps_category['Instagram'] = 'Photo Sharing' \n",
    "print(f'apps_category = {apps_category}')\n",
    "print(f'updated_apps_category = {updated_apps_category}')\n",
    "\n"
   ]
  },
  {
   "cell_type": "markdown",
   "id": "72a56078",
   "metadata": {},
   "source": [
    "## Class Method for Creating Dictionaries\n",
    "\n",
    "This method is called on the `dict` class itself, not on an instance.\n"
   ]
  },
  {
   "cell_type": "markdown",
   "id": "b7804418",
   "metadata": {},
   "source": [
    "* **`fromkeys(iterable, value=None)`**\n",
    "    Creates a new dictionary with keys from a given iterable (like a list or string) and sets all values to a specified `value` (which defaults to `None`)."
   ]
  },
  {
   "cell_type": "code",
   "execution_count": 85,
   "id": "ec481964",
   "metadata": {},
   "outputs": [
    {
     "name": "stdout",
     "output_type": "stream",
     "text": [
      "{'a': 0, 'b': 0, 'c': 0}\n",
      "{'x': None, 'y': None, 'z': None}\n",
      "{'name': 'unknown', 'age': 'unknown', 'city': 'unknown'}\n",
      "{1: 100, 2: 100, 3: 100, 4: 100}\n",
      "{'apple': 'fruit', 42: 'fruit', (1, 2): 'fruit', True: 'fruit'}\n"
     ]
    }
   ],
   "source": [
    "keys = ['a', 'b', 'c']\n",
    "new_dict = dict.fromkeys(keys, 0)\n",
    "print(new_dict)\n",
    "\n",
    "\n",
    "keys = ['x', 'y', 'z']\n",
    "result1 = dict.fromkeys(keys)\n",
    "print(result1)\n",
    "\n",
    "keys = ('name', 'age', 'city')\n",
    "result2 = dict.fromkeys(keys, 'unknown')\n",
    "print(result2)\n",
    "\n",
    "keys = [1, 2, 3, 4]\n",
    "result3 = dict.fromkeys(keys, 100)\n",
    "print(result3)\n",
    "\n",
    "keys = ['apple', 42, (1, 2), True]\n",
    "result4 = dict.fromkeys(keys, 'fruit')\n",
    "print(result4)\n",
    "\n",
    "\n"
   ]
  },
  {
   "cell_type": "markdown",
   "id": "51c26d6c",
   "metadata": {},
   "source": []
  }
 ],
 "metadata": {
  "kernelspec": {
   "display_name": "Python 3",
   "language": "python",
   "name": "python3"
  },
  "language_info": {
   "codemirror_mode": {
    "name": "ipython",
    "version": 3
   },
   "file_extension": ".py",
   "mimetype": "text/x-python",
   "name": "python",
   "nbconvert_exporter": "python",
   "pygments_lexer": "ipython3",
   "version": "3.13.7"
  }
 },
 "nbformat": 4,
 "nbformat_minor": 5
}
