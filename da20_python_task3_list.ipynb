{
 "cells": [
  {
   "cell_type": "markdown",
   "id": "39506943",
   "metadata": {},
   "source": [
    "## Methods That Modify the List\n",
    "\n",
    "These methods change the original list they are called on."
   ]
  },
  {
   "cell_type": "markdown",
   "id": "7fcf5130",
   "metadata": {},
   "source": [
    "* **`append(element)`**\n",
    "    Adds a single element to the **end** of the list."
   ]
  },
  {
   "cell_type": "code",
   "execution_count": 2,
   "id": "69442582",
   "metadata": {},
   "outputs": [
    {
     "name": "stdout",
     "output_type": "stream",
     "text": [
      "['Pineapple', 'Papaya', 'Grapes', 'Strawberry', 'Blueberry', 'Raspberry', 'Watermelon', 'Apple', 'Banana', 'Mango', 'Orange']\n"
     ]
    }
   ],
   "source": [
    "fruits = [\n",
    "    \"Pineapple\", \"Papaya\", \"Grapes\", \"Strawberry\", \"Blueberry\", \"Raspberry\"\n",
    "]\n",
    "\n",
    "\n",
    "fruits.append( 'Watermelon')\n",
    "fruits.append('Apple')\n",
    "fruits.append('Banana')\n",
    "fruits.append('Mango')\n",
    "fruits.append('Orange')\n",
    "\n",
    "print(fruits)\n",
    "\n"
   ]
  },
  {
   "cell_type": "markdown",
   "id": "cc76e294",
   "metadata": {},
   "source": [
    "* **`extend(iterable)`**\n",
    "    Adds all the items from an iterable (like another list, a tuple, or a string) to the **end** of the list.\n",
    "\n",
    " \n",
    "    ```\n"
   ]
  },
  {
   "cell_type": "code",
   "execution_count": 1,
   "id": "fc2da733",
   "metadata": {},
   "outputs": [
    {
     "name": "stdout",
     "output_type": "stream",
     "text": [
      "['Rabbit', 'Deer', 'Lion', 'Elephant']\n",
      "['Rabbit', 'Deer', 'Lion', 'Elephant', 'Monkey', 'Wolf']\n",
      "['Rabbit', 'Deer', 'Lion', 'Elephant', 'Monkey', 'Wolf', 'Fox', 'Kangaroo']\n",
      "['Rabbit', 'Deer', 'Lion', 'Elephant', 'Monkey', 'Wolf', 'Fox', 'Kangaroo', 'Zebra', 'Buffalo']\n",
      "['Rabbit', 'Deer', 'Lion', 'Elephant', 'Monkey', 'Wolf', 'Fox', 'Kangaroo', 'Zebra', 'Buffalo', 'Zebra', 'Buffalo']\n"
     ]
    }
   ],
   "source": [
    "animals = [\"Rabbit\", \"Deer\"]\n",
    "\n",
    "new_animals_1 = ['Lion', 'Elephant']\n",
    "animals.extend(new_animals_1)\n",
    "print(animals)\n",
    "\n",
    "new_animals_2 = ['Monkey', 'Wolf']\n",
    "animals.extend(new_animals_2)\n",
    "print(animals)\n",
    "\n",
    "new_animals_3 = ['Fox','Kangaroo']\n",
    "animals.extend(new_animals_3)\n",
    "print(animals)\n",
    "\n",
    "new_animals_4 = ['Zebra','Buffalo']\n",
    "animals.extend(new_animals_4)\n",
    "print(animals)\n",
    "\n",
    "new_animals_5 = ['Yak', 'Horse']\n",
    "animals.extend(new_animals_4)\n",
    "print(animals)\n",
    "\n"
   ]
  },
  {
   "cell_type": "markdown",
   "id": "b935653d",
   "metadata": {},
   "source": [
    "* **`insert(index, element)`**\n",
    "    Inserts an element at a **specified position**.\n",
    "\n"
   ]
  },
  {
   "cell_type": "code",
   "execution_count": 36,
   "id": "6234bcaa",
   "metadata": {},
   "outputs": [
    {
     "name": "stdout",
     "output_type": "stream",
     "text": [
      "['Crow', 'Pigeon', 'Owl', 'Parrot', 'Sparrow', 'Peacock']\n",
      "['Crow', 'Eagle', 'Pigeon', 'Owl', 'Parrot', 'Sparrow', 'Peacock']\n",
      "['Crow', 'Eagle', 'Pigeon', 'Owl', 'Duck', 'Parrot', 'Sparrow', 'Peacock']\n",
      "['Crow', 'Eagle', 'Pigeon', 'Owl', 'Duck', 'Goose', 'Parrot', 'Sparrow', 'Peacock']\n",
      "['Crow', 'Eagle', 'Pigeon', 'Owl', 'Duck', 'Goose', 'Hen', 'Parrot', 'Sparrow', 'Peacock']\n"
     ]
    }
   ],
   "source": [
    "\n",
    "birds = [\n",
    "    \"Crow\", \"Pigeon\", \"Parrot\", \"Sparrow\", \"Peacock\"\n",
    "]\n",
    "\n",
    "birds.insert(2, 'Owl')\n",
    "print(birds)\n",
    "\n",
    "birds.insert(1, 'Eagle')\n",
    "print(birds)\n",
    "\n",
    "birds.insert(4, 'Duck')\n",
    "print(birds)\n",
    "\n",
    "birds.insert(5, 'Goose')\n",
    "print(birds)\n",
    "\n",
    "birds.insert(6, 'Hen')\n",
    "print(birds)\n"
   ]
  },
  {
   "cell_type": "markdown",
   "id": "b5cd6c99",
   "metadata": {},
   "source": [
    "\n",
    "  * **`remove(element)`**\n",
    "    Removes the **first occurrence** of the specified value. It raises a `ValueError` if the item is not found."
   ]
  },
  {
   "cell_type": "code",
   "execution_count": 37,
   "id": "760993f4",
   "metadata": {},
   "outputs": [
    {
     "name": "stdout",
     "output_type": "stream",
     "text": [
      "['Bread', 'Pasta', 'Pizza', 'Noodles', 'Waffles', 'Dosa', 'Idli', 'Samosa', 'Biryani']\n",
      "['Pasta', 'Pizza', 'Noodles', 'Waffles', 'Dosa', 'Idli', 'Samosa', 'Biryani']\n",
      "['Pasta', 'Noodles', 'Waffles', 'Dosa', 'Idli', 'Samosa', 'Biryani']\n",
      "['Pasta', 'Noodles', 'Waffles', 'Dosa', 'Idli', 'Biryani']\n",
      "['Pasta', 'Noodles', 'Waffles', 'Dosa', 'Idli']\n"
     ]
    }
   ],
   "source": [
    "foods = [\n",
    "    \"Rice\", \"Bread\", \"Pasta\", \"Pizza\", \"Noodles\", \"Waffles\", \"Dosa\", \"Idli\", \"Samosa\", \"Biryani\"\n",
    "]\n",
    "\n",
    "foods.remove('Rice')\n",
    "print(foods)\n",
    "\n",
    "foods.remove('Bread')\n",
    "print(foods)\n",
    "\n",
    "foods.remove('Pizza')\n",
    "print(foods)\n",
    "\n",
    "foods.remove('Samosa')\n",
    "print(foods)\n",
    "\n",
    "foods.remove('Biryani')\n",
    "print(foods)\n"
   ]
  },
  {
   "cell_type": "markdown",
   "id": "36200d67",
   "metadata": {},
   "source": [
    "* **`pop(index=-1)`**\n",
    "    Removes and **returns** the element at the specified index. If no index is provided, it removes and returns the **last item**.\n"
   ]
  },
  {
   "cell_type": "code",
   "execution_count": 4,
   "id": "e7379140",
   "metadata": {},
   "outputs": [
    {
     "name": "stdout",
     "output_type": "stream",
     "text": [
      "Buldozer\n",
      "['Car', 'Bus', 'Truck', 'Bicycle', 'Motorcycle', 'Scooter', 'Van']\n",
      "Car\n",
      "['Bus', 'Truck', 'Bicycle', 'Motorcycle', 'Scooter', 'Van']\n",
      "Truck\n",
      "['Bus', 'Bicycle', 'Motorcycle', 'Scooter', 'Van']\n",
      "Motorcycle\n",
      "['Bus', 'Bicycle', 'Scooter', 'Van']\n",
      "Van\n",
      "['Bus', 'Bicycle', 'Scooter']\n"
     ]
    }
   ],
   "source": [
    "vehicles = [\n",
    "    \"Car\", \"Bus\", \"Truck\", \"Bicycle\", \"Motorcycle\", \"Scooter\", \"Van\", \"Buldozer\"\n",
    "]\n",
    "\n",
    "\n",
    "last_vehicle = vehicles.pop()\n",
    "print(last_vehicle)\n",
    "print(vehicles)\n",
    "\n",
    "first_vehicle = vehicles.pop(0)\n",
    "print(first_vehicle)\n",
    "print(vehicles)\n",
    "\n",
    "second_vehicle = vehicles.pop(1)\n",
    "print(second_vehicle)\n",
    "print(vehicles)\n",
    "\n",
    "third_vehicle = vehicles.pop(2)\n",
    "print(third_vehicle)\n",
    "print(vehicles)\n",
    "\n",
    "fourth_vehicle = vehicles.pop(3)\n",
    "print(fourth_vehicle)\n",
    "print(vehicles)"
   ]
  },
  {
   "cell_type": "markdown",
   "id": "9151da24",
   "metadata": {},
   "source": [
    " * **`clear()`**\n",
    "    Removes **all** items from the list, making it empty."
   ]
  },
  {
   "cell_type": "code",
   "execution_count": 39,
   "id": "83dbce17",
   "metadata": {},
   "outputs": [
    {
     "name": "stdout",
     "output_type": "stream",
     "text": [
      "[]\n",
      "[]\n",
      "[]\n",
      "[]\n",
      "[]\n"
     ]
    }
   ],
   "source": [
    "places = [\n",
    "    \"School\", \"College\", \"Hospital\", \"Temple\", \"Mosque\", \"Church\", \"Library\", \"Park\", \"Zoo\", \"Museum\",\n",
    "    \"Airport\", \"Railway Station\", \"Bus Stop\", \"Market\", \"Mall\", \"Theater\", \"Beach\", \"Mountain\", \"River\", \"Lake\",\n",
    "    \"Restaurant\", \"Hotel\", \"Farm\", \"Village\", \"City\"\n",
    "]\n",
    "\n",
    "gadgets = [\n",
    "    \"Mobile\", \"Laptop\", \"Tablet\", \"Smartwatch\", \"Headphones\", \"Earbuds\", \"Keyboard\", \"Mouse\", \"Monitor\", \"Printer\",\n",
    "    \"Camera\", \"Drone\", \"Charger\", \"USB Drive\", \"Power Bank\", \"Projector\", \"Television\", \"Speaker\", \"Router\", \"Mic\",\n",
    "    \"Smart Glasses\", \"Calculator\", \"Game Console\", \"VR Headset\", \"Smart Home Hub\"\n",
    "]\n",
    "\n",
    "shapes = [\n",
    "    \"Circle\", \"Square\", \"Rectangle\", \"Triangle\", \"Pentagon\", \"Hexagon\", \"Heptagon\", \"Octagon\", \"Nonagon\", \"Decagon\",\n",
    "    \"Ellipse\", \"Oval\", \"Star\", \"Diamond\", \"Trapezium\", \"Parallelogram\", \"Rhombus\", \"Kite\", \"Crescent\", \"Heart\",\n",
    "    \"Arrow\", \"Cross\", \"Cube\", \"Cylinder\", \"Sphere\"\n",
    "]\n",
    "\n",
    "countries = [\n",
    "    \"India\", \"China\", \"USA\", \"Canada\", \"Brazil\", \"Argentina\", \"Mexico\", \"Russia\", \"Japan\", \"South Korea\",\n",
    "    \"Germany\", \"France\", \"Italy\", \"Spain\", \"UK\", \"Australia\", \"New Zealand\", \"South Africa\", \"Egypt\", \"Turkey\",\n",
    "    \"Saudi Arabia\", \"UAE\", \"Pakistan\", \"Bangladesh\", \"Nepal\"\n",
    "]\n",
    "\n",
    "languages = [\n",
    "    \"English\", \"Hindi\", \"Spanish\", \"French\", \"German\", \"Italian\", \"Portuguese\", \"Chinese\", \"Japanese\", \"Korean\",\n",
    "    \"Russian\", \"Arabic\", \"Turkish\", \"Dutch\", \"Greek\", \"Hebrew\", \"Swedish\", \"Norwegian\", \"Finnish\", \"Polish\",\n",
    "    \"Czech\", \"Romanian\", \"Hungarian\", \"Thai\", \"Malay\"\n",
    "]\n",
    "\n",
    "places.clear()\n",
    "print(places)\n",
    "\n",
    "gadgets.clear()\n",
    "print(gadgets)\n",
    "\n",
    "shapes.clear()\n",
    "print(shapes)\n",
    "\n",
    "countries.clear()\n",
    "print(countries)\n",
    "\n",
    "languages.clear()\n",
    "print(languages)\n"
   ]
  },
  {
   "cell_type": "markdown",
   "id": "a367b738",
   "metadata": {},
   "source": [
    "* **`sort(key=None, reverse=False)`**\n",
    "    Sorts the list **in-place**. You can customize the sort order with the optional `key` and `reverse` arguments.\n"
   ]
  },
  {
   "cell_type": "code",
   "execution_count": 40,
   "id": "40e455d6",
   "metadata": {},
   "outputs": [
    {
     "name": "stdout",
     "output_type": "stream",
     "text": [
      "[17, 18, 36, 47, 55, 61, 71, 87, 90, 97]\n",
      "[92, 62, 51, 50, 47, 41, 41, 38, 34, 9]\n",
      "[3, 7, 14, 19, 44, 52, 59, 78, 88, 100]\n",
      "[84, 82, 77, 72, 68, 60, 49, 32, 28, 15]\n",
      "[2, 4, 18, 31, 39, 44, 46, 46, 68, 70]\n"
     ]
    }
   ],
   "source": [
    "list1 = [61, 47, 36, 55, 90, 18, 71, 17, 97, 87]\n",
    "list2 = [41, 41, 34, 51, 38, 50, 47, 92, 9, 62]\n",
    "list3 = [78, 88, 59, 52, 14, 19, 3, 44, 7, 100]\n",
    "list4 = [68, 60, 32, 82, 28, 15, 49, 72, 84, 77]\n",
    "list5 = [70, 31, 68, 46, 18, 46, 4, 2, 39, 44]\n",
    "\n",
    "\n",
    "list1.sort()\n",
    "print(list1)\n",
    "\n",
    "list2.sort(reverse=True)\n",
    "print(list2)\n",
    "\n",
    "list3.sort()\n",
    "print(list3)\n",
    "\n",
    "list4.sort(reverse=True)\n",
    "print(list4)\n",
    "\n",
    "list5.sort()\n",
    "print(list5)\n",
    "\n"
   ]
  },
  {
   "cell_type": "markdown",
   "id": "2cdb9199",
   "metadata": {},
   "source": [
    "* **`reverse()`**\n",
    "    Reverses the order of the elements in the list **in-place**."
   ]
  },
  {
   "cell_type": "code",
   "execution_count": null,
   "id": "ebd3e9f9",
   "metadata": {},
   "outputs": [
    {
     "name": "stdout",
     "output_type": "stream",
     "text": [
      "['Economics', 'Civics', 'Geography', 'History', 'English', 'Biology', 'Chemistry', 'Physics', 'Science', 'Math']\n",
      "['Dominoes', 'Checkers', 'Poker', 'Uno', 'Monopoly', 'Scrabble', 'Snakes and Ladders', 'Carrom', 'Ludo', 'Chess']\n",
      "['Ramadan', 'Hanukkah', 'Easter', 'New Year', 'Halloween', 'Thanksgiving', 'Holi', 'Eid', 'Christmas', 'Diwali']\n",
      "['Level', 'Tape Measure', 'Chisel', 'Drill', 'Saw', 'Pliers', 'Spanner', 'Wrench', 'Screwdriver', 'Hammer']\n",
      "['Sweater', 'Coat', 'Jacket', 'Dress', 'Skirt', 'Shorts', 'Jeans', 'Pants', 'T-shirt', 'Shirt']\n"
     ]
    }
   ],
   "source": [
    "subjects = [\"Math\", \"Science\", \"Physics\", \"Chemistry\", \"Biology\", \"English\", \"History\", \"Geography\", \"Civics\", \"Economics\"]\n",
    "games = [\"Chess\", \"Ludo\", \"Carrom\", \"Snakes and Ladders\", \"Scrabble\", \"Monopoly\", \"Uno\", \"Poker\", \"Checkers\", \"Dominoes\"]\n",
    "festivals = [\"Diwali\", \"Christmas\", \"Eid\", \"Holi\", \"Thanksgiving\", \"Halloween\", \"New Year\", \"Easter\", \"Hanukkah\", \"Ramadan\"]\n",
    "tools = [\"Hammer\", \"Screwdriver\", \"Wrench\", \"Spanner\", \"Pliers\", \"Saw\", \"Drill\", \"Chisel\", \"Tape Measure\", \"Level\"]\n",
    "clothing = [\"Shirt\", \"T-shirt\", \"Pants\", \"Jeans\", \"Shorts\", \"Skirt\", \"Dress\", \"Jacket\", \"Coat\", \"Sweater\"]\n",
    "\n",
    "\n",
    "subjects.reverse() \n",
    "print(subjects)\n",
    "\n",
    "games.reverse() \n",
    "print(games)\n",
    "\n",
    "festivals.reverse() \n",
    "print(festivals)\n",
    "\n",
    "tools.reverse() \n",
    "print(tools)\n",
    "\n",
    "clothing.reverse()\n",
    "print(clothing)"
   ]
  },
  {
   "cell_type": "markdown",
   "id": "10a2477d",
   "metadata": {},
   "source": [
    "## Methods That Do Not Modify the List\n",
    "\n",
    "These methods return a new value or information about the list without changing it."
   ]
  },
  {
   "cell_type": "markdown",
   "id": "b5436f52",
   "metadata": {},
   "source": [
    "* **`copy()`**\n",
    "    Returns a **shallow copy** of the list. This is useful when you want to modify a new list without affecting the original.\n",
    "\n",
    "    ```"
   ]
  },
  {
   "cell_type": "code",
   "execution_count": null,
   "id": "d7e400e1",
   "metadata": {},
   "outputs": [
    {
     "name": "stdout",
     "output_type": "stream",
     "text": [
      "new_accessories = ['Watch', 'Ring', 'Bracelet', 'Necklace', 'Earrings', 'Bangles']\n",
      "new_groceries = ['Rice', 'Wheat', 'Sugar', 'Salt', 'Oil', 'Butter', 'Milk', 'Eggs']\n",
      "new_programming_lang = ['Python', 'Java', 'C', 'C++', 'C#', 'JavaScript', 'TypeScript']\n",
      "new_software = ['MS Word', 'MS Excel', 'MS PowerPoint', 'Outlook', 'Access']\n",
      "new_plant = ['Rose', 'Tulip', 'Sunflower', 'Lily', 'Lotus', 'Marigold', 'Hibiscus']\n"
     ]
    }
   ],
   "source": [
    "accessories = [\"Watch\", \"Ring\", \"Bracelet\", \"Necklace\", \"Earrings\", \"Bangles\"]\n",
    "groceries = [\"Rice\", \"Wheat\", \"Sugar\", \"Salt\", \"Oil\", \"Butter\", \"Milk\", \"Eggs\"]\n",
    "programming_lang = [\"Python\", \"Java\", \"C\", \"C++\", \"C#\", \"JavaScript\", \"TypeScript\"]\n",
    "software = [\"MS Word\", \"MS Excel\", \"MS PowerPoint\", \"Outlook\", \"Access\"]\n",
    "plants = [\"Rose\", \"Tulip\", \"Sunflower\", \"Lily\", \"Lotus\", \"Marigold\", \"Hibiscus\"]\n",
    "\n",
    "\n",
    "new_accessories = accessories.copy()\n",
    "print(f'new_accessories = {new_accessories}')\n",
    "\n",
    "\n",
    "new_groceries = groceries.copy()\n",
    "print(f'new_groceries = {new_groceries}')\n",
    "\n",
    "\n",
    "new_programming_lang = programming_lang.copy()\n",
    "print(f'new_programming_lang = {new_programming_lang}')\n",
    "\n",
    "\n",
    "new_software = software.copy()\n",
    "print(f'new_software = {new_software}')\n",
    "\n",
    "\n",
    "new_plant = plants.copy()\n",
    "print(f'new_plant = {new_plant}')\n"
   ]
  },
  {
   "cell_type": "markdown",
   "id": "e44cf77a",
   "metadata": {},
   "source": [
    "* **`count(value)`**\n",
    "    Returns the **number of times** a specified value appears in the list.\n"
   ]
  },
  {
   "cell_type": "code",
   "execution_count": 47,
   "id": "fedd90f7",
   "metadata": {},
   "outputs": [
    {
     "name": "stdout",
     "output_type": "stream",
     "text": [
      "3\n",
      "2\n",
      "3\n",
      "1\n",
      "4\n"
     ]
    }
   ],
   "source": [
    "list1 = [61, 47, 36, 17, 18, 71, 17, 17, 97, 87]\n",
    "list2 = [41, 41, 34, 47, 38, 50, 47, 92, 9, 62]\n",
    "list3 = [78, 3, 59, 52, 3, 19, 3, 44, 7, 100]\n",
    "list4 = [68, 60, 32, 82, 28, 15, 49, 72, 84, 77]\n",
    "list5 = [70, 31, 68, 46, 70, 46, 4, 70, 39, 70]\n",
    "\n",
    "print(list1.count(17))\n",
    "print(list2.count(47))\n",
    "print(list3.count(3))\n",
    "print(list4.count(60))\n",
    "print(list5.count(70))\n"
   ]
  },
  {
   "cell_type": "markdown",
   "id": "70e18b53",
   "metadata": {},
   "source": [
    "* **`index(value, start=0, end=len(list))`**\n",
    "    Returns the **index of the first occurrence** of a value. You can specify optional start and end points for the search. It raises a `ValueError` if the value is not found.\n"
   ]
  },
  {
   "cell_type": "code",
   "execution_count": 51,
   "id": "ac7406a7",
   "metadata": {},
   "outputs": [
    {
     "name": "stdout",
     "output_type": "stream",
     "text": [
      "1\n",
      "8\n",
      "0\n",
      "7\n",
      "0\n",
      "5\n",
      "0\n",
      "6\n",
      "2\n",
      "2\n"
     ]
    }
   ],
   "source": [
    "insects = [\"Ant\", \"Bee\", \"Wasp\", \"Hornet\", \"Mosquito\", \"Fly\", \"Housefly\", \"Butterfly\", \"Bee\", \"Dragonfly\"]\n",
    "\n",
    "sea_animals = [\"Fish\", \"Shark\", \"Whale\", \"Dolphin\", \"Octopus\", \"Squid\", \"Seal\", \"Fish\", \"Walrus\"]\n",
    "\n",
    "groceries = [\"Rice\", \"Wheat\", \"Sugar\", \"Salt\", \"Oil\", \"Rice\", \"Milk\", \"Eggs\", \"Cheese\", \"Bread\"]\n",
    "\n",
    "desserts = [\"Cake\", \"Ice Cream\", \"Pie\", \"Brownie\", \"Pudding\", \"Donut\", \"Cake\", \"Candy\", \"Chocolate\"]\n",
    "\n",
    "sports = [\"Soccer\", \"Basketball\", \"Cricket\", \"Tennis\", \"Baseball\", \"Football\", \"Hockey\", \"Cricket\"]\n",
    "\n",
    "\n",
    "print(insects.index('Bee')) #first occurrence\n",
    "print(insects.index('Bee', 2)) #next occurrence\n",
    "\n",
    "print(sea_animals.index('Fish')) #first occurrence\n",
    "print(sea_animals.index('Fish', 2)) #next occurrence\n",
    "\n",
    "print(groceries.index('Rice')) #first occurrence\n",
    "print(groceries.index('Rice', 2)) #next occurrence\n",
    "\n",
    "print(desserts.index('Cake')) #first occurrence\n",
    "print(desserts.index('Cake', 2)) #next occurrence\n",
    "\n",
    "print(sports.index('Cricket')) #first occurrence\n",
    "print(sports.index('Cricket', 2)) #next occurrence\n"
   ]
  }
 ],
 "metadata": {
  "kernelspec": {
   "display_name": "Python 3",
   "language": "python",
   "name": "python3"
  },
  "language_info": {
   "codemirror_mode": {
    "name": "ipython",
    "version": 3
   },
   "file_extension": ".py",
   "mimetype": "text/x-python",
   "name": "python",
   "nbconvert_exporter": "python",
   "pygments_lexer": "ipython3",
   "version": "3.13.7"
  }
 },
 "nbformat": 4,
 "nbformat_minor": 5
}
